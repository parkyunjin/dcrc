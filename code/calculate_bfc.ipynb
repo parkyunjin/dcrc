{
 "cells": [
  {
   "cell_type": "code",
   "execution_count": null,
   "id": "8ddccaff-c411-4186-b88b-8e3c541008fd",
   "metadata": {},
   "outputs": [],
   "source": [
    "import pandas as pd\n",
    "import networkx as nx\n",
    "import igraph as ig\n",
    "import numpy as np\n",
    "import pickle\n",
    "\n",
    "import sys\n",
    "sys.path.insert(1, \"/code/curvatures/prev_curv\")\n",
    "from balanced_forman_curvature import BalancedForman\n",
    "\n",
    "def balancedformancurv(G: nx.Graph):\n",
    "    bfc = BalancedForman(G)\n",
    "    G = bfc.compute_balancedformancurv()\n",
    "    return G\n",
    "\n",
    "if __name__ == '__main__':\n",
    "    \n",
    "    # Read in graphs\n",
    "    G1 = nx.read_graphml(\"/dcsbm.graphml\")\n",
    "    G2 = nx.read_graphml(\"/balanced_sbm.graphml\")\n",
    "\n",
    "    # Calculate curvature\n",
    "    G1 = balancedformancurv(G1)\n",
    "    G2 = balancedformancurv(G2)\n",
    "\n",
    "    # Save updated graphs back to GraphML\n",
    "    nx.write_graphml(G1, \"/dcsbm_curved.graphml\")\n",
    "    nx.write_graphml(G2, \"/balanced_sbm_curved.graphml\")\n",
    "    \n",
    "\n"
   ]
  },
  {
   "cell_type": "code",
   "execution_count": null,
   "id": "32314915-9762-41a2-bafe-0b813aecac50",
   "metadata": {},
   "outputs": [],
   "source": []
  },
  {
   "cell_type": "code",
   "execution_count": null,
   "id": "50b3098d-24b8-4350-9ee7-9bea13d60f77",
   "metadata": {},
   "outputs": [],
   "source": []
  }
 ],
 "metadata": {
  "kernelspec": {
   "display_name": "Python 3 (ipykernel)",
   "language": "python",
   "name": "python3"
  },
  "language_info": {
   "codemirror_mode": {
    "name": "ipython",
    "version": 3
   },
   "file_extension": ".py",
   "mimetype": "text/x-python",
   "name": "python",
   "nbconvert_exporter": "python",
   "pygments_lexer": "ipython3",
   "version": "3.10.9"
  }
 },
 "nbformat": 4,
 "nbformat_minor": 5
}
